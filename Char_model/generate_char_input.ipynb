{
 "cells": [
  {
   "cell_type": "code",
   "execution_count": 1,
   "id": "80d55621",
   "metadata": {
    "ExecuteTime": {
     "end_time": "2022-02-09T16:03:07.742537Z",
     "start_time": "2022-02-09T16:03:07.517588Z"
    }
   },
   "outputs": [],
   "source": [
    "import cv2\n",
    "import matplotlib.pyplot as plt\n",
    "import os\n",
    "import numpy as np\n",
    "import random\n"
   ]
  },
  {
   "cell_type": "code",
   "execution_count": null,
   "id": "4ae84bb0",
   "metadata": {
    "ExecuteTime": {
     "end_time": "2022-02-09T16:02:46.926773Z",
     "start_time": "2022-02-09T16:02:46.258Z"
    },
    "scrolled": true
   },
   "outputs": [],
   "source": [
    "f = open(\"data.txt\")\n",
    "lines = f.readlines()\n",
    "save_path = './char_input/train/'\n",
    "\n",
    "for img in os.scandir('./yolo_input/train/images/'):\n",
    "    save_name = ''\n",
    "\n",
    "    name = img.name\n",
    "    #print(name)\n",
    "    img_info = []\n",
    "    for line in lines:\n",
    "        splitted = line.split()\n",
    "        if name == splitted[0]:\n",
    "            img_info = splitted\n",
    "            break\n",
    "\n",
    "    # configuring path information\n",
    "    img_path = os.path.join('./yolo_input/train/images/', img.name)\n",
    "    #print(\"test img path: \" + img_path)\n",
    "    save_name = img_info[-2]+img_info[-1]+'_'+name\n",
    "    #print(save_name)\n",
    "\n",
    "    # reading the image and the coordinates\n",
    "    img = cv2.imread(img_path)\n",
    "    h, w, c = img.shape\n",
    "    # img = cv2.resize(img, (128, 128)) / 255.0 # (128, 128, 3)\n",
    "    # exit()\n",
    "    coord = splitted[1:9]\n",
    "    rx1 = random.randint(-70,10)\n",
    "    ry1 = random.randint(-20,10)\n",
    "    rx2 = random.randint(-10,70)\n",
    "    ry2 = random.randint(-20,10)\n",
    "    \n",
    "    ry3 = random.randint(-10,30)\n",
    "    \n",
    "    ry4 = random.randint(-10,30)\n",
    "\n",
    "    topleft = [int(coord[0])+rx1, int(coord[1])+ry1]\n",
    "    topright = [int(coord[2])+rx2, int(coord[3])+ry2]\n",
    "    bottomright = [int(coord[4])+rx2, int(coord[5])+ry3]\n",
    "    bottomleft = [int(coord[6])+rx1, int(coord[7])+ry4]\n",
    "\n",
    "    pts1 = np.float32([topleft, topright, bottomright, bottomleft])\n",
    "\n",
    "    pts2 = np.float32([[0, 0], [256-1, 0], [256-1, 128-1], [0, 128-1]])\n",
    "\n",
    "    mtrx = cv2.getPerspectiveTransform(pts1, pts2)\n",
    "    cropped_img = cv2.warpPerspective(img, mtrx, (256, 128))\n",
    "    plt.imshow(cropped_img)\n",
    "    plt.show()\n",
    "    save_name = splitted[-2]+splitted[-1]+'_'+name\n",
    "    print(save_name)\n",
    "\n",
    "    save_path = os.path.join('./char_input/train/', save_name)\n",
    "    cv2.imwrite(save_path, cropped_img)\n",
    "    \n"
   ]
  },
  {
   "cell_type": "code",
   "execution_count": null,
   "id": "6f0233e7",
   "metadata": {
    "ExecuteTime": {
     "end_time": "2022-02-09T16:02:46.927562Z",
     "start_time": "2022-02-09T16:02:46.258Z"
    }
   },
   "outputs": [],
   "source": [
    "f = open(\"data.txt\")\n",
    "lines = f.readlines()\n",
    "save_path = './char_input/val/'\n",
    "\n",
    "for img in os.scandir('./yolo_input/val/images/'):\n",
    "    save_name = ''\n",
    "\n",
    "    name = img.name\n",
    "    #print(name)\n",
    "    img_info = []\n",
    "    for line in lines:\n",
    "        splitted = line.split()\n",
    "        if name == splitted[0]:\n",
    "            img_info = splitted\n",
    "            break\n",
    "\n",
    "    # configuring path information\n",
    "    img_path = os.path.join('./yolo_input/val/images/', img.name)\n",
    "    #print(\"test img path: \" + img_path)\n",
    "    save_name = img_info[-2]+img_info[-1]+'_'+name\n",
    "    #print(save_name)\n",
    "\n",
    "    # reading the image and the coordinates\n",
    "    img = cv2.imread(img_path)\n",
    "    h, w, c = img.shape\n",
    "    # img = cv2.resize(img, (128, 128)) / 255.0 # (128, 128, 3)\n",
    "    # exit()\n",
    "    coord = splitted[1:9]\n",
    "    rx1 = random.randint(-70,10)\n",
    "    ry1 = random.randint(-20,10)\n",
    "    rx2 = random.randint(-10,70)\n",
    "    ry2 = random.randint(-20,10)\n",
    "    \n",
    "    ry3 = random.randint(-10,30)\n",
    "    \n",
    "    ry4 = random.randint(-10,30)\n",
    "\n",
    "    topleft = [int(coord[0])+rx1, int(coord[1])+ry1]\n",
    "    topright = [int(coord[2])+rx2, int(coord[3])+ry2]\n",
    "    bottomright = [int(coord[4])+rx2, int(coord[5])+ry3]\n",
    "    bottomleft = [int(coord[6])+rx1, int(coord[7])+ry4]\n",
    "\n",
    "    pts1 = np.float32([topleft, topright, bottomright, bottomleft])\n",
    "\n",
    "    pts2 = np.float32([[0, 0], [256-1, 0], [256-1, 128-1], [0, 128-1]])\n",
    "\n",
    "    mtrx = cv2.getPerspectiveTransform(pts1, pts2)\n",
    "    cropped_img = cv2.warpPerspective(img, mtrx, (256, 128))\n",
    "    plt.imshow(cropped_img)\n",
    "    plt.show()\n",
    "    save_name = splitted[-2]+splitted[-1]+'_'+name\n",
    "    print(save_name)\n",
    "\n",
    "    save_path = os.path.join('./char_input/val/', save_name)\n",
    "    cv2.imwrite(save_path, cropped_img)\n",
    "    \n"
   ]
  },
  {
   "cell_type": "code",
   "execution_count": null,
   "id": "99874baf",
   "metadata": {
    "ExecuteTime": {
     "end_time": "2022-02-09T16:02:46.928101Z",
     "start_time": "2022-02-09T16:02:46.259Z"
    }
   },
   "outputs": [],
   "source": [
    "for img in os.scandir('./char_input/train/'):\n",
    "    name = img.name.split('_')\n",
    "    if len(name[0])!=7:\n",
    "        print(name)\n",
    "        \n",
    "print('#'*100)\n",
    "for img in os.scandir('./char_input/train/'):\n",
    "    name = img.name.split('_')\n",
    "    if len(name[0])!=7:\n",
    "        print(name)"
   ]
  },
  {
   "cell_type": "code",
   "execution_count": null,
   "id": "027ad333",
   "metadata": {},
   "outputs": [],
   "source": []
  }
 ],
 "metadata": {
  "kernelspec": {
   "display_name": "Python 3",
   "language": "python",
   "name": "python3"
  },
  "language_info": {
   "codemirror_mode": {
    "name": "ipython",
    "version": 3
   },
   "file_extension": ".py",
   "mimetype": "text/x-python",
   "name": "python",
   "nbconvert_exporter": "python",
   "pygments_lexer": "ipython3",
   "version": "3.8.8"
  },
  "toc": {
   "base_numbering": 1,
   "nav_menu": {},
   "number_sections": true,
   "sideBar": true,
   "skip_h1_title": false,
   "title_cell": "Table of Contents",
   "title_sidebar": "Contents",
   "toc_cell": false,
   "toc_position": {},
   "toc_section_display": true,
   "toc_window_display": false
  }
 },
 "nbformat": 4,
 "nbformat_minor": 5
}
